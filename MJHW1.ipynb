{
  "nbformat": 4,
  "nbformat_minor": 0,
  "metadata": {
    "colab": {
      "name": "MJHW1.ipynb",
      "provenance": [],
      "authorship_tag": "ABX9TyMzICNV7ubpxv0tVFQ9ZGzd",
      "include_colab_link": true
    },
    "kernelspec": {
      "name": "python3",
      "display_name": "Python 3"
    },
    "language_info": {
      "name": "python"
    }
  },
  "cells": [
    {
      "cell_type": "markdown",
      "metadata": {
        "id": "view-in-github",
        "colab_type": "text"
      },
      "source": [
        "<a href=\"https://colab.research.google.com/github/MJWu-wizard/Linux2021Fall/blob/master/MJHW1.ipynb\" target=\"_parent\"><img src=\"https://colab.research.google.com/assets/colab-badge.svg\" alt=\"Open In Colab\"/></a>"
      ]
    },
    {
      "cell_type": "code",
      "execution_count": 1,
      "metadata": {
        "colab": {
          "base_uri": "https://localhost:8080/"
        },
        "id": "vBsBxcf_bNqZ",
        "outputId": "40d4f774-5073-4233-825c-62b6e8f51e33"
      },
      "outputs": [
        {
          "output_type": "stream",
          "name": "stdout",
          "text": [
            "/usr/local/lib/python3.7/dist-packages/gdown/cli.py:131: FutureWarning: Option `--id` was deprecated in version 4.3.1 and will be removed in 5.0. You don't need to pass it anymore to use a file ID.\n",
            "  category=FutureWarning,\n",
            "Downloading...\n",
            "From: https://drive.google.com/uc?id=19CCyCgJrUxtvgZF53vnctJiOJ23T5mqF\n",
            "To: /content/covid.train.csv\n",
            "100% 2.00M/2.00M [00:00<00:00, 48.6MB/s]\n",
            "/usr/local/lib/python3.7/dist-packages/gdown/cli.py:131: FutureWarning: Option `--id` was deprecated in version 4.3.1 and will be removed in 5.0. You don't need to pass it anymore to use a file ID.\n",
            "  category=FutureWarning,\n",
            "Downloading...\n",
            "From: https://drive.google.com/uc?id=1CE240jLm2npU-tdz81-oVKEF3T2yfT1O\n",
            "To: /content/covid.test.csv\n",
            "100% 651k/651k [00:00<00:00, 97.9MB/s]\n"
          ]
        }
      ],
      "source": [
        "tr_path = 'covid.train.csv'  # path to training data\n",
        "tt_path = 'covid.test.csv'   # path to testing data\n",
        "\n",
        "!gdown --id '19CCyCgJrUxtvgZF53vnctJiOJ23T5mqF' --output covid.train.csv\n",
        "!gdown --id '1CE240jLm2npU-tdz81-oVKEF3T2yfT1O' --output covid.test.csv"
      ]
    },
    {
      "cell_type": "code",
      "source": [
        "# Porth\n",
        "import torch\n",
        "import torch.nn as nn\n",
        "from torch.utils.data import Dataset,DataLoader\n",
        "\n",
        "import numpy as np\n",
        "import csv\n",
        "import os\n",
        "\n",
        "import matplotlib.pyplot as plt\n",
        "from matplotlib.pyplot import figure\n",
        "\n",
        "\n",
        "#定義一個固定亂數\n",
        "myseed=42066\n",
        "#torch.backends.cudnn.deterministic是啥？顾名思义，将这个 flag 置为True的话，每次返回的卷积算法将是确定的，即默认算法。如果配合上设置 Torch 的随机种子为固定值的话，应该可以保证每次运行网络的时候相同输入的输出是固定的，代码大致这样\n",
        "\n",
        "torch.backends.cudnn.deterministic=True\n",
        "\n",
        "\n",
        "#如果网络的输入数据维度或类型上变化不大，设置 torch.backends.cudnn. benchmark = true 可以增加运行效率； 如果网络的输入数据在每次iteration 都变化的话，会导致cnDNN 每次都会去寻找一遍最优配置，这样反而会降低运行效率。\n",
        "torch.backends.cudnn.benchmark = False\n",
        "\n",
        "np.random.seed=(myseed)\n",
        "torch.manual_seed(myseed)\n",
        "\n",
        "# torch.cuda.manual_seed()b表示在GPU中设置生成随机数的种子。当设置的种子固定下来的时候，之后依次pytorch生成的随机数序列也被固定下来。torch.cuda.manual_seed_all()则是为所有的GPU设置种子。需要注意的是当只调用torch.cuda.manual_seed()一次时并不能生成相同的随机数序列。如果想要得到相同的随机数序列就需要每次产生随机数的时候都要调用一下torch.cuda.manual_seed()。\n",
        "if torch.cuda.is_available():\n",
        "    torch.cuda.manual_seed_all(myseed)\n"
      ],
      "metadata": {
        "id": "q242PhpObUra"
      },
      "execution_count": 11,
      "outputs": []
    },
    {
      "cell_type": "code",
      "source": [
        "#畫圖 Some Utilities\n",
        "def get_device():\n",
        "    ''' Get device (if GPU is available, use GPU) '''\n",
        "    return 'cuda' if torch.cuda.is_available() else 'cpu'\n",
        "\n",
        "def plot_learning_curve(loss_record, title=''):\n",
        "    ''' Plot learning curve of your DNN (train & dev loss) '''\n",
        "    total_steps = len(loss_record['train'])\n",
        "    x_1 = range(total_steps)\n",
        "    x_2 = x_1[::len(loss_record['train']) // len(loss_record['dev'])]\n",
        "    figure(figsize=(6, 4))\n",
        "    plt.plot(x_1, loss_record['train'], c='tab:red', label='train')\n",
        "    plt.plot(x_2, loss_record['dev'], c='tab:cyan', label='dev')\n",
        "    plt.ylim(0.0, 5.)\n",
        "    plt.xlabel('Training steps')\n",
        "    plt.ylabel('MSE loss')\n",
        "    plt.title('Learning curve of {}'.format(title))\n",
        "    plt.legend()\n",
        "    plt.show()\n",
        "\n",
        "\n",
        "def plot_pred(dv_set, model, device, lim=35., preds=None, targets=None):\n",
        "    ''' Plot prediction of your DNN '''\n",
        "    if preds is None or targets is None:\n",
        "        model.eval()\n",
        "        preds, targets = [], []\n",
        "        for x, y in dv_set:\n",
        "            x, y = x.to(device), y.to(device)\n",
        "            with torch.no_grad():\n",
        "                pred = model(x)\n",
        "                preds.append(pred.detach().cpu())\n",
        "                targets.append(y.detach().cpu())\n",
        "        preds = torch.cat(preds, dim=0).numpy()\n",
        "        targets = torch.cat(targets, dim=0).numpy()\n",
        "\n",
        "    figure(figsize=(5, 5))\n",
        "    plt.scatter(targets, preds, c='r', alpha=0.5)\n",
        "    plt.plot([-0.2, lim], [-0.2, lim], c='b')\n",
        "    plt.xlim(-0.2, lim)\n",
        "    plt.ylim(-0.2, lim)\n",
        "    plt.xlabel('ground truth value')\n",
        "    plt.ylabel('predicted value')\n",
        "    plt.title('Ground Truth v.s. Prediction')\n",
        "    plt.show()"
      ],
      "metadata": {
        "id": "su-jtLH9dF5Y"
      },
      "execution_count": 12,
      "outputs": []
    },
    {
      "cell_type": "markdown",
      "source": [
        "Preprocess\n",
        "We have three kinds of datasets:\n",
        "\n",
        "train: for training\n",
        "dev: for validation\n",
        "test: for testing (w/o target value)"
      ],
      "metadata": {
        "id": "4BF4i2yddUYT"
      }
    },
    {
      "cell_type": "markdown",
      "source": [
        "Dataset\n",
        "The COVID19Dataset below does:\n",
        "\n",
        "read .csv files\n",
        "extract features\n",
        "split covid.train.csv into train/dev sets\n",
        "normalize features\n",
        "Finishing TODO below might make you pass medium baseline."
      ],
      "metadata": {
        "id": "kSyXCiLodbrA"
      }
    },
    {
      "cell_type": "code",
      "source": [
        "class COVID19Dataset(Dataset):\n",
        "  ''' Dataset for loading and preprocessing the COVID19 dataset '''\n",
        "  def __init__(self, path,mode=\"train\",target_only=False):\n",
        "    self.mode=mode\n",
        "    #將資料讀到dataset\n",
        "    with open(path,'r') as fp:\n",
        "      data=list(csv.reader(fp))\n",
        "      data=np.array(data[1:])[:,1:].astype(float)\n",
        "    if not target_only:\n",
        "      feats=list(range(93))\n",
        "    else:\n",
        "      # TODO: Using 40 states & 2 tested_positive features (indices = 57 & 75)\n",
        "      pass\n",
        "    if mode == 'test':\n",
        "            # Testing data\n",
        "            # data: 893 x 93 (40 states + day 1 (18) + day 2 (18) + day 3 (17))\n",
        "            data = data[:, feats]\n",
        "            self.data = torch.FloatTensor(data)\n",
        "    \n",
        "    else:\n",
        "      # Training data (train/dev sets)\n",
        "      # data: 2700 x 94 (40 states + day 1 (18) + day 2 (18) + day 3 (18))\n",
        "      target=data[:,-1]\n",
        "      data=data[:,feats]          \n",
        "      \n",
        "      #切割資料集\n",
        "      if mode=='train':\n",
        "        indices=[i for i in range(len(data)) if i%10 !=0]\n",
        "      elif mode=='dev':\n",
        "        indices = [i for i in range(len(data)) if i % 10 == 0]\n",
        "      # Convert data into PyTorch tensors\n",
        "      self.data = torch.FloatTensor(data[indices])\n",
        "      self.target = torch.FloatTensor(target[indices])\n",
        "    # 正規化 Normalize features (you may remove this part to see what will happen)\n",
        "    self.data[:, 40:] = \\\n",
        "            (self.data[:, 40:] - self.data[:, 40:].mean(dim=0, keepdim=True)) \\\n",
        "            / self.data[:, 40:].std(dim=0, keepdim=True)\n",
        "    self.dim = self.data.shape[1]\n",
        "\n",
        "    print('Finished reading the {} set of COVID19 Dataset ({} samples found, each dim = {})'\n",
        "              .format(mode, len(self.data), self.dim))\n",
        "    \n",
        "  def __getitem__(self, index):\n",
        "        # Returns one sample at a time\n",
        "        if self.mode in ['train', 'dev']:\n",
        "            # For training\n",
        "            return self.data[index], self.target[index]\n",
        "        else:\n",
        "            # For testing (no target)\n",
        "            return self.data[index]\n",
        "\n",
        "  def __len__(self):\n",
        "        # Returns the size of the dataset\n",
        "        return len(self.data)\n",
        "    \n",
        "      \n"
      ],
      "metadata": {
        "id": "-9GUnJ7VdIAw"
      },
      "execution_count": 13,
      "outputs": []
    },
    {
      "cell_type": "code",
      "source": [
        "# DataLoader\n",
        "def prep_dataloader(path,mode,batch_size,n_jobs=0,target_only=False):\n",
        "  ''' Generates a dataset, then is put into a dataloader. '''\n",
        "  dataset=COVID19Dataset(path,mode=mode,target_only=target_only)\n",
        "  dataloader=DataLoader(dataset,batch_size,shuffle=(mode=='train'),drop_last=False,num_workers=n_jobs,pin_memory=True)\n",
        "  return dataloader\n",
        "  "
      ],
      "metadata": {
        "id": "r7xZ0fMhhJwJ"
      },
      "execution_count": 14,
      "outputs": []
    },
    {
      "cell_type": "code",
      "source": [
        "# Deep NeuWork\n",
        "class NeuralNet(nn.Module):\n",
        "  def __init__(self,input_dim):\n",
        "    super(NeuralNet,self).__init__()\n",
        "    #定義網路\n",
        "\n",
        "    self.net=nn.Sequential(\n",
        "        nn.Linear(input_dim,64),\n",
        "        nn.ReLU(),\n",
        "        nn.Linear(64,1)\n",
        "\n",
        "     )\n",
        "    #MSE LOSS\n",
        "    #reduction (string, optional) – Specifies the reduction to apply to the output: 'none' | 'mean' | 'sum'. 'none': no reduction will be applied, 'mean': the sum of the output will be divided by the number of elements in the output, 'sum': the output will be summed. Note: size_average and reduce are in the process of being deprecated, and in the meantime, specifying either of those two args will override reduction. Default: 'mean'\n",
        "    self.criterion =nn.MSELoss(reduction='mean')\n",
        "\n",
        "  def forward(self,x):\n",
        "    return self.net(x).squeeze(1)\n",
        "  def cal_loss(self,pred,target):\n",
        "    # TODO: you may implement L1/L2 regularization here\n",
        "    return self.criterion(pred, target)"
      ],
      "metadata": {
        "id": "1qPsNALHiROu"
      },
      "execution_count": 25,
      "outputs": []
    },
    {
      "cell_type": "markdown",
      "source": [
        "Training"
      ],
      "metadata": {
        "id": "qQawwPkxjqre"
      }
    },
    {
      "cell_type": "markdown",
      "source": [
        "\n"
      ],
      "metadata": {
        "id": "Ippc1a0bjreW"
      }
    },
    {
      "cell_type": "code",
      "source": [
        "def train(tr_set,dv_set,model,config,device):\n",
        "  n_epochs=config['n_epochs']\n",
        "  #優化器\n",
        "  optimizer=getattr(torch.optim,config['optimizer'])(model.parameters(),**config['optim_hparas'])\n",
        "  min_mse = 1000.\n",
        "  loss_record = {'train': [], 'dev': []}      # for recording training loss\n",
        "  early_stop_cnt = 0\n",
        "  epoch = 0\n",
        "\n",
        "  while epoch<n_epochs:\n",
        "    model.train()\n",
        "    for x,y in tr_set:\n",
        "      optimizer.zero_grad()\n",
        "      x,y=x.to(device),y.to(device)\n",
        "      pred=model(x)\n",
        "      mse_loss=model.cal_loss(pred,y)\n",
        "      mse_loss.backward()\n",
        "      optimizer.step()\n",
        "      loss_record['train'].append(mse_loss.detach().cpu().item())\n",
        "    # After each epoch, test your model on the validation (development) set.\n",
        "    dev_mse = dev(dv_set, model, device)\n",
        "    if dev_mse < min_mse:\n",
        "      # Save model if your model improved\n",
        "      min_mse = dev_mse\n",
        "      print('Saving model (epoch = {:4d}, loss = {:.4f})'.format(epoch + 1, min_mse))\n",
        "      torch.save(model.state_dict(), config['save_path'])  # Save model to specified path\n",
        "      early_stop_cnt = 0\n",
        "    else:\n",
        "      early_stop_cnt += 1\n",
        "\n",
        "    epoch += 1\n",
        "    loss_record['dev'].append(dev_mse)\n",
        "    if early_stop_cnt > config['early_stop']:\n",
        "            # Stop training if your model stops improving for \"config['early_stop']\" epochs.\n",
        "      break\n",
        "\n",
        "  print('Finished training after {} epochs'.format(epoch))\n",
        "  return min_mse, loss_record"
      ],
      "metadata": {
        "id": "tM2Wlm3Aj_gy"
      },
      "execution_count": 29,
      "outputs": []
    },
    {
      "cell_type": "markdown",
      "source": [
        "validation"
      ],
      "metadata": {
        "id": "YvtS97t2nANh"
      }
    },
    {
      "cell_type": "code",
      "source": [
        "def dev(dv_set, model, device):\n",
        "  model.eval()\n",
        "  total_loss=0\n",
        "  for x,y in dv_set:\n",
        "    x, y = x.to(device), y.to(device)       # move data to device (cpu/cuda)\n",
        "    with torch.no_grad():                   # disable gradient calculation\n",
        "        pred = model(x)                     # forward pass (compute output)\n",
        "        mse_loss = model.cal_loss(pred, y)  # compute loss\n",
        "    total_loss += mse_loss.detach().cpu().item() * len(x)  # accumulate loss\n",
        "  total_loss = total_loss / len(dv_set.dataset)              # compute averaged loss\n",
        "\n",
        "  return total_loss"
      ],
      "metadata": {
        "id": "i1pJ3C4onp0u"
      },
      "execution_count": 17,
      "outputs": []
    },
    {
      "cell_type": "markdown",
      "source": [
        "test"
      ],
      "metadata": {
        "id": "xzPz_dXXnomH"
      }
    },
    {
      "cell_type": "code",
      "source": [
        "def test(tt_set, model, device):\n",
        "  model.eval()\n",
        "  preds=[]\n",
        "  for x in tt_set:\n",
        "    x = x.to(device) \n",
        "    with torch.no_grad():\n",
        "      pred=model(x)\n",
        "      preds.append(pred.detach().cpu())\n",
        "  preds=torch.cat(pred,dim=0).numpy()\n",
        "  return preds"
      ],
      "metadata": {
        "id": "hK81nbBQnBzk"
      },
      "execution_count": 18,
      "outputs": []
    },
    {
      "cell_type": "markdown",
      "source": [
        "config"
      ],
      "metadata": {
        "id": "FJ6fIpEtnCCM"
      }
    },
    {
      "cell_type": "code",
      "source": [
        "device = get_device()                 # get the current available device ('cpu' or 'cuda')\n",
        "os.makedirs('models', exist_ok=True)  # The trained model will be saved to ./models/\n",
        "target_only = False                   # TODO: Using 40 states & 2 tested_positive features\n",
        "\n",
        "# TODO: How to tune these hyper-parameters to improve your model's performance?\n",
        "config = {\n",
        "    'n_epochs': 3000,                # maximum number of epochs\n",
        "    'batch_size': 270,               # mini-batch size for dataloader\n",
        "    'optimizer': 'SGD',              # optimization algorithm (optimizer in torch.optim)\n",
        "    'optim_hparas': {                # hyper-parameters for the optimizer (depends on which optimizer you are using)\n",
        "        'lr': 0.001,                 # learning rate of SGD\n",
        "        'momentum': 0.9              # momentum for SGD\n",
        "    },\n",
        "    'early_stop': 200,               # early stopping epochs (the number epochs since your model's last improvement)\n",
        "    'save_path': 'models/model.pth'  # your model will be saved here\n",
        "}"
      ],
      "metadata": {
        "id": "MIKnX6_8nDj6"
      },
      "execution_count": 19,
      "outputs": []
    },
    {
      "cell_type": "code",
      "source": [
        ""
      ],
      "metadata": {
        "id": "FJPCYJ7foCQg"
      },
      "execution_count": 19,
      "outputs": []
    },
    {
      "cell_type": "markdown",
      "source": [
        "Load data and model"
      ],
      "metadata": {
        "id": "nnQpTOYxoC9C"
      }
    },
    {
      "cell_type": "code",
      "source": [
        "tr_set = prep_dataloader(tr_path, 'train', config['batch_size'], target_only=target_only)\n",
        "dv_set = prep_dataloader(tr_path, 'dev', config['batch_size'], target_only=target_only)\n",
        "tt_set = prep_dataloader(tt_path, 'test', config['batch_size'], target_only=target_only)"
      ],
      "metadata": {
        "colab": {
          "base_uri": "https://localhost:8080/"
        },
        "id": "8ayrJuZMoAsT",
        "outputId": "995a7314-ff66-4ace-a64c-68b1bbd271e1"
      },
      "execution_count": 30,
      "outputs": [
        {
          "output_type": "stream",
          "name": "stdout",
          "text": [
            "Finished reading the train set of COVID19 Dataset (2430 samples found, each dim = 93)\n",
            "Finished reading the dev set of COVID19 Dataset (270 samples found, each dim = 93)\n",
            "Finished reading the test set of COVID19 Dataset (893 samples found, each dim = 93)\n"
          ]
        }
      ]
    },
    {
      "cell_type": "code",
      "source": [
        "model = NeuralNet(tr_set.dataset.dim).to(device)  # Construct model and move to device"
      ],
      "metadata": {
        "id": "H5Qa2Am5oF4k"
      },
      "execution_count": 31,
      "outputs": []
    },
    {
      "cell_type": "code",
      "source": [
        "model_loss, model_loss_record = train(tr_set, dv_set, model, config, device)"
      ],
      "metadata": {
        "colab": {
          "base_uri": "https://localhost:8080/"
        },
        "id": "IU7BEjeCoIE8",
        "outputId": "df512d7f-ff10-4335-94c7-9317e7c25146"
      },
      "execution_count": 32,
      "outputs": [
        {
          "output_type": "stream",
          "name": "stdout",
          "text": [
            "Saving model (epoch =    1, loss = 111.6376)\n",
            "Saving model (epoch =    2, loss = 43.1551)\n",
            "Saving model (epoch =    3, loss = 27.8899)\n",
            "Saving model (epoch =    4, loss = 16.3109)\n",
            "Saving model (epoch =    5, loss = 9.8320)\n",
            "Saving model (epoch =    6, loss = 7.2141)\n",
            "Saving model (epoch =    7, loss = 5.8035)\n",
            "Saving model (epoch =    8, loss = 4.9565)\n",
            "Saving model (epoch =    9, loss = 4.4091)\n",
            "Saving model (epoch =   10, loss = 3.9233)\n",
            "Saving model (epoch =   11, loss = 3.5132)\n",
            "Saving model (epoch =   12, loss = 3.2175)\n",
            "Saving model (epoch =   13, loss = 2.9891)\n",
            "Saving model (epoch =   14, loss = 2.7618)\n",
            "Saving model (epoch =   15, loss = 2.5970)\n",
            "Saving model (epoch =   16, loss = 2.4237)\n",
            "Saving model (epoch =   17, loss = 2.3017)\n",
            "Saving model (epoch =   18, loss = 2.1618)\n",
            "Saving model (epoch =   19, loss = 2.1045)\n",
            "Saving model (epoch =   20, loss = 2.0006)\n",
            "Saving model (epoch =   21, loss = 1.9219)\n",
            "Saving model (epoch =   22, loss = 1.8537)\n",
            "Saving model (epoch =   23, loss = 1.7651)\n",
            "Saving model (epoch =   24, loss = 1.7359)\n",
            "Saving model (epoch =   25, loss = 1.6708)\n",
            "Saving model (epoch =   26, loss = 1.6223)\n",
            "Saving model (epoch =   27, loss = 1.5690)\n",
            "Saving model (epoch =   28, loss = 1.5247)\n",
            "Saving model (epoch =   29, loss = 1.4844)\n",
            "Saving model (epoch =   30, loss = 1.4381)\n",
            "Saving model (epoch =   31, loss = 1.4264)\n",
            "Saving model (epoch =   32, loss = 1.4119)\n",
            "Saving model (epoch =   34, loss = 1.3561)\n",
            "Saving model (epoch =   36, loss = 1.3144)\n",
            "Saving model (epoch =   37, loss = 1.2985)\n",
            "Saving model (epoch =   38, loss = 1.2611)\n",
            "Saving model (epoch =   40, loss = 1.2261)\n",
            "Saving model (epoch =   41, loss = 1.2219)\n",
            "Saving model (epoch =   43, loss = 1.1923)\n",
            "Saving model (epoch =   44, loss = 1.1759)\n",
            "Saving model (epoch =   46, loss = 1.1512)\n",
            "Saving model (epoch =   48, loss = 1.1259)\n",
            "Saving model (epoch =   50, loss = 1.1139)\n",
            "Saving model (epoch =   53, loss = 1.0927)\n",
            "Saving model (epoch =   55, loss = 1.0721)\n",
            "Saving model (epoch =   56, loss = 1.0545)\n",
            "Saving model (epoch =   58, loss = 1.0454)\n",
            "Saving model (epoch =   61, loss = 1.0440)\n",
            "Saving model (epoch =   62, loss = 1.0255)\n",
            "Saving model (epoch =   63, loss = 1.0228)\n",
            "Saving model (epoch =   65, loss = 1.0101)\n",
            "Saving model (epoch =   66, loss = 1.0033)\n",
            "Saving model (epoch =   68, loss = 0.9976)\n",
            "Saving model (epoch =   69, loss = 0.9945)\n",
            "Saving model (epoch =   72, loss = 0.9795)\n",
            "Saving model (epoch =   74, loss = 0.9708)\n",
            "Saving model (epoch =   75, loss = 0.9673)\n",
            "Saving model (epoch =   76, loss = 0.9551)\n",
            "Saving model (epoch =   78, loss = 0.9460)\n",
            "Saving model (epoch =   80, loss = 0.9405)\n",
            "Saving model (epoch =   81, loss = 0.9403)\n",
            "Saving model (epoch =   83, loss = 0.9394)\n",
            "Saving model (epoch =   84, loss = 0.9351)\n",
            "Saving model (epoch =   87, loss = 0.9210)\n",
            "Saving model (epoch =   89, loss = 0.9161)\n",
            "Saving model (epoch =   90, loss = 0.9060)\n",
            "Saving model (epoch =   93, loss = 0.8984)\n",
            "Saving model (epoch =   95, loss = 0.8964)\n",
            "Saving model (epoch =   97, loss = 0.8925)\n",
            "Saving model (epoch =   99, loss = 0.8850)\n",
            "Saving model (epoch =  105, loss = 0.8735)\n",
            "Saving model (epoch =  107, loss = 0.8735)\n",
            "Saving model (epoch =  112, loss = 0.8710)\n",
            "Saving model (epoch =  113, loss = 0.8656)\n",
            "Saving model (epoch =  116, loss = 0.8638)\n",
            "Saving model (epoch =  118, loss = 0.8593)\n",
            "Saving model (epoch =  120, loss = 0.8551)\n",
            "Saving model (epoch =  122, loss = 0.8507)\n",
            "Saving model (epoch =  124, loss = 0.8475)\n",
            "Saving model (epoch =  131, loss = 0.8378)\n",
            "Saving model (epoch =  136, loss = 0.8358)\n",
            "Saving model (epoch =  140, loss = 0.8295)\n",
            "Saving model (epoch =  144, loss = 0.8284)\n",
            "Saving model (epoch =  146, loss = 0.8275)\n",
            "Saving model (epoch =  149, loss = 0.8226)\n",
            "Saving model (epoch =  155, loss = 0.8222)\n",
            "Saving model (epoch =  171, loss = 0.8152)\n",
            "Saving model (epoch =  172, loss = 0.8125)\n",
            "Saving model (epoch =  173, loss = 0.8119)\n",
            "Saving model (epoch =  176, loss = 0.8082)\n",
            "Saving model (epoch =  180, loss = 0.8036)\n",
            "Saving model (epoch =  202, loss = 0.8011)\n",
            "Saving model (epoch =  205, loss = 0.7950)\n",
            "Saving model (epoch =  210, loss = 0.7934)\n",
            "Saving model (epoch =  213, loss = 0.7897)\n",
            "Saving model (epoch =  233, loss = 0.7863)\n",
            "Saving model (epoch =  252, loss = 0.7841)\n",
            "Saving model (epoch =  256, loss = 0.7828)\n",
            "Saving model (epoch =  261, loss = 0.7759)\n",
            "Saving model (epoch =  305, loss = 0.7704)\n",
            "Saving model (epoch =  410, loss = 0.7704)\n",
            "Saving model (epoch =  442, loss = 0.7693)\n",
            "Saving model (epoch =  451, loss = 0.7654)\n",
            "Saving model (epoch =  489, loss = 0.7626)\n",
            "Saving model (epoch =  532, loss = 0.7580)\n",
            "Saving model (epoch =  703, loss = 0.7560)\n",
            "Saving model (epoch =  710, loss = 0.7546)\n",
            "Saving model (epoch =  792, loss = 0.7544)\n",
            "Saving model (epoch =  965, loss = 0.7532)\n",
            "Finished training after 1166 epochs\n"
          ]
        }
      ]
    },
    {
      "cell_type": "code",
      "source": [
        "plot_learning_curve(model_loss_record, title='deep model')"
      ],
      "metadata": {
        "colab": {
          "base_uri": "https://localhost:8080/",
          "height": 295
        },
        "id": "Qj2ZWU8WoKFl",
        "outputId": "d0e47a33-4a5e-4ead-fda4-1d6d67debbe3"
      },
      "execution_count": 33,
      "outputs": [
        {
          "output_type": "display_data",
          "data": {
            "text/plain": [
              "<Figure size 432x288 with 1 Axes>"
            ],
            "image/png": "[encoded data removed]"
          },
          "metadata": {
            "needs_background": "light"
          }
        }
      ]
    },
    {
      "cell_type": "code",
      "source": [
        "del model\n",
        "model = NeuralNet(tr_set.dataset.dim).to(device)\n",
        "ckpt = torch.load(config['save_path'], map_location='cpu')  # Load your best model\n",
        "model.load_state_dict(ckpt)\n",
        "plot_pred(dv_set, model, device)  # Show prediction on the validation set"
      ],
      "metadata": {
        "colab": {
          "base_uri": "https://localhost:8080/",
          "height": 350
        },
        "id": "kUalOovho7TH",
        "outputId": "e0652012-1f9f-4ea5-834b-ac8f7a9a801d"
      },
      "execution_count": 34,
      "outputs": [
        {
          "output_type": "display_data",
          "data": {
            "text/plain": [
              "<Figure size 360x360 with 1 Axes>"
            ],
            "image/png": "[encoded data removed]"
          },
          "metadata": {
            "needs_background": "light"
          }
        }
      ]
    },
    {
      "cell_type": "markdown",
      "source": [
        "Testing"
      ],
      "metadata": {
        "id": "E05nr6y9o9fa"
      }
    },
    {
      "cell_type": "code",
      "source": [
        "def save_pred(preds, file):\n",
        "    ''' Save predictions to specified file '''\n",
        "    print('Saving results to {}'.format(file))\n",
        "    with open(file, 'w') as fp:\n",
        "        writer = csv.writer(fp)\n",
        "        writer.writerow(['id', 'tested_positive'])\n",
        "        for i, p in enumerate(preds):\n",
        "            writer.writerow([i, p])\n",
        "\n",
        "preds = test(tt_set, model, device)  # predict COVID-19 cases with your model\n",
        "save_pred(preds, 'pred.csv')         # save prediction file to pred.csv"
      ],
      "metadata": {
        "id": "1if_TBVVo-A6"
      },
      "execution_count": null,
      "outputs": []
    },
    {
      "cell_type": "markdown",
      "source": [
        ""
      ],
      "metadata": {
        "id": "uc9YmYPWdaL8"
      }
    }
  ]
}